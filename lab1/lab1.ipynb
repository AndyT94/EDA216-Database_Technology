{
 "cells": [
  {
   "cell_type": "markdown",
   "metadata": {},
   "source": [
    "# Lab 1 - SQL\n",
    "\n",
    "*Objective:* you will learn to write SQL queries and practice using\n",
    "[`SQLite`]() and [`Jupyter`]()\n",
    "\n",
    "## Background\n",
    "\n",
    "A database for registration of courses, students, and course results\n",
    "has been developed. The purpose was not to develop a new Ladok\n",
    "database (Swedish university student database), so everything has been\n",
    "simplified as much as possible. A course has a course code (e.g.,\n",
    "EDA216), a name (e.g., Database Technology), a level (G1, G2 or A) and\n",
    "a number of credits (e.g., 7.5). Students have a social security\n",
    "number (personnummer) and a name. When a student has passed a course\n",
    "his/her grade (3, 4 or 5) is registered in the database.\n",
    "\n",
    "We started by developing an E/R model of the system (E/R stands for\n",
    "Entity-Relationship). This model is developed in the same way as when\n",
    "you develop the static model in object-oriented modeling, and you draw\n",
    "the same kind of UML diagrams. You may instead use traditional E/R\n",
    "notation, as in the text book. However, diagrams in the traditional\n",
    "notation take more paper space, and the notation is not fully\n",
    "standardized, so we will only use the UML notation. The model looks\n",
    "like this in the different notations (the UML diagram is at the top):\n",
    "\n",
    "![There should be a image here](lab1.png)\n",
    "\n",
    "The E/R model is then converted into a database schema in the\n",
    "relational model. We will later show how the conversion is performed;\n",
    "for now we just show the final results. The entity sets and the\n",
    "relationship have been converted into the following relations (the\n",
    "primary key of each relation is italicized):\n",
    "\n",
    " + Students(*ssn*, first_name, last_name)\n",
    " + Courses(*course_code*, course_name, level, credits)\n",
    " + TakenCourses(*ssn, course_code*, grade)\n",
    "\n",
    "Examples of instances of the relations:"
   ]
  },
  {
   "cell_type": "markdown",
   "metadata": {},
   "source": [
    "~~~ {.text}\n",
    "ssn           first_name   last_name\n",
    "861103–2438   Bo           Ek\n",
    "911212–1746   Eva          Alm\n",
    "950829–1848   Anna         Nyström\n",
    "...           ...          ...\n",
    "\n",
    "course_code   course_name                   level    credits\n",
    "EDA016        Programmeringsteknik          G1       7.5\n",
    "EDAA01        Programmeringsteknik - FK     G1       7.5\n",
    "EDA230        Optimerande kompilatorer      A        7.5\n",
    "...           ...                           ...      ...\n",
    "\n",
    "ssn           course_code   grade\n",
    "861103–2438   EDA016        4\n",
    "861103–2438   EDAA01        3\n",
    "911212–1746   EDA016        3\n",
    "...           ...           ...\n",
    "~~~\n"
   ]
  },
  {
   "cell_type": "markdown",
   "metadata": {},
   "source": [
    "The tables have been created with the following SQL statements:"
   ]
  },
  {
   "cell_type": "markdown",
   "metadata": {},
   "source": [
    "~~~ {.sql}\n",
    "CREATE TABLE students (\n",
    "    ssn          char(11),\n",
    "    first_name   varchar(20) not null,\n",
    "    last_name    varchar(20) not null,\n",
    "    primary key  (ssn)\n",
    ");\n",
    "\n",
    "CREATE TABLE courses (\n",
    "    course_code   char(6),\n",
    "    course_name   varchar(70) not null,\n",
    "    level         char(2),\n",
    "    credits       double not null check (credits > 0),\n",
    "    primary key   (course_code)\n",
    ");\n",
    "\n",
    "CREATE TABLE taken_courses (\n",
    "    ssn           char(11),\n",
    "    course_code   char(6),\n",
    "    grade         integer not null check (grade >= 3 and grade <= 5),\n",
    "    primary key   (ssn, course_code),\n",
    "    foreign key   (ssn) references students(ssn),\n",
    "    foreign key   (course_code) references courses(course_code)\n",
    ");\n",
    "~~~\n"
   ]
  },
  {
   "cell_type": "markdown",
   "metadata": {},
   "source": [
    "All courses that were offered at the Computer Science and Engineering\n",
    "program at LTH during the academic year 2013/14 are in the table\n",
    "Courses. Also, the database has been filled with invented data about\n",
    "students and what courses they have taken. SQL statements like the\n",
    "following have been used to insert the data:"
   ]
  },
  {
   "cell_type": "markdown",
   "metadata": {},
   "source": [
    "~~~ {.sql}\n",
    "INSERT INTO students      VALUES (’861103-2438’, ’Bo’, ’Ek’);\n",
    "INSERT INTO courses       VALUES (’EDA016’, ’Programmeringsteknik’, ’G1’, 7.5);\n",
    "INSERT INTO taken_courses VALUES (’861103-2438’, ’EDA016’, 4);\n",
    "~~~\n"
   ]
  },
  {
   "cell_type": "markdown",
   "metadata": {},
   "source": [
    "## Assignments"
   ]
  },
  {
   "cell_type": "code",
   "execution_count": 1,
   "metadata": {
    "collapsed": false
   },
   "outputs": [],
   "source": [
    "%load_ext sql"
   ]
  },
  {
   "cell_type": "code",
   "execution_count": 2,
   "metadata": {
    "collapsed": false
   },
   "outputs": [
    {
     "data": {
      "text/plain": [
       "'Connected: None@lab1.db'"
      ]
     },
     "execution_count": 2,
     "metadata": {},
     "output_type": "execute_result"
    }
   ],
   "source": [
    "%sql sqlite:///lab1.db"
   ]
  },
  {
   "cell_type": "markdown",
   "metadata": {},
   "source": [
    "The tables `students`, `courses` and `taken_courses` already exist in\n",
    "your database. If you change the contents of the tables, you can\n",
    "always recreate the tables with the following command (at the mysql\n",
    "prompt):"
   ]
  },
  {
   "cell_type": "markdown",
   "metadata": {},
   "source": [
    "~~~ {.sh}\n",
    "sqlite3 lab1.db < setup-lab1-db.sql\n",
    "~~~\n"
   ]
  },
  {
   "cell_type": "markdown",
   "metadata": {},
   "source": [
    "After most of the questions there is a number in brackets. This is the\n",
    "number of rows generated by the question. For instance, [72] after\n",
    "question a) means that there are 72 students in the database.\n",
    "\n",
    "a) What are the names (first name, last name) of all the students?\n",
    "   [72]"
   ]
  },
  {
   "cell_type": "code",
   "execution_count": 3,
   "metadata": {
    "collapsed": false
   },
   "outputs": [
    {
     "name": "stdout",
     "output_type": "stream",
     "text": [
      "Done.\n"
     ]
    },
    {
     "data": {
      "text/html": [
       "<table>\n",
       "    <tr>\n",
       "        <th>ssn</th>\n",
       "        <th>first_name</th>\n",
       "        <th>last_name</th>\n",
       "    </tr>\n",
       "    <tr>\n",
       "        <td>950705-2308</td>\n",
       "        <td>Anna</td>\n",
       "        <td>Johansson</td>\n",
       "    </tr>\n",
       "    <tr>\n",
       "        <td>930702-3582</td>\n",
       "        <td>Anna</td>\n",
       "        <td>Johansson</td>\n",
       "    </tr>\n",
       "    <tr>\n",
       "        <td>911212-1746</td>\n",
       "        <td>Eva</td>\n",
       "        <td>Alm</td>\n",
       "    </tr>\n",
       "    <tr>\n",
       "        <td>910707-3787</td>\n",
       "        <td>Eva</td>\n",
       "        <td>Nilsson</td>\n",
       "    </tr>\n",
       "    <tr>\n",
       "        <td>931213-2824</td>\n",
       "        <td>Elaine</td>\n",
       "        <td>Robertson</td>\n",
       "    </tr>\n",
       "    <tr>\n",
       "        <td>951122-1048</td>\n",
       "        <td>Maria</td>\n",
       "        <td>Nordman</td>\n",
       "    </tr>\n",
       "    <tr>\n",
       "        <td>910308-1826</td>\n",
       "        <td>Helena</td>\n",
       "        <td>Troberg</td>\n",
       "    </tr>\n",
       "    <tr>\n",
       "        <td>941003-1225</td>\n",
       "        <td>Lotta</td>\n",
       "        <td>Emanuelsson</td>\n",
       "    </tr>\n",
       "    <tr>\n",
       "        <td>950829-1848</td>\n",
       "        <td>Anna</td>\n",
       "        <td>Nyström</td>\n",
       "    </tr>\n",
       "    <tr>\n",
       "        <td>860819-2864</td>\n",
       "        <td>Maria</td>\n",
       "        <td>Andersson</td>\n",
       "    </tr>\n",
       "    <tr>\n",
       "        <td>870915-2742</td>\n",
       "        <td>Marie</td>\n",
       "        <td>Persson</td>\n",
       "    </tr>\n",
       "    <tr>\n",
       "        <td>900227-2369</td>\n",
       "        <td>Märit</td>\n",
       "        <td>Aspegren</td>\n",
       "    </tr>\n",
       "    <tr>\n",
       "        <td>931208-3605</td>\n",
       "        <td>Ylva</td>\n",
       "        <td>Jacobsson</td>\n",
       "    </tr>\n",
       "    <tr>\n",
       "        <td>951004-2346</td>\n",
       "        <td>Frida</td>\n",
       "        <td>Weidel</td>\n",
       "    </tr>\n",
       "    <tr>\n",
       "        <td>870909-3367</td>\n",
       "        <td>Caroline</td>\n",
       "        <td>Olsson</td>\n",
       "    </tr>\n",
       "    <tr>\n",
       "        <td>910915-2068</td>\n",
       "        <td>Karolin</td>\n",
       "        <td>Ek</td>\n",
       "    </tr>\n",
       "    <tr>\n",
       "        <td>860206-1065</td>\n",
       "        <td>Eva</td>\n",
       "        <td>Hjort</td>\n",
       "    </tr>\n",
       "    <tr>\n",
       "        <td>900528-1540</td>\n",
       "        <td>Sofia</td>\n",
       "        <td>Kjellberg</td>\n",
       "    </tr>\n",
       "    <tr>\n",
       "        <td>930502-2040</td>\n",
       "        <td>Tina</td>\n",
       "        <td>Lööf</td>\n",
       "    </tr>\n",
       "    <tr>\n",
       "        <td>950317-3520</td>\n",
       "        <td>Lisa</td>\n",
       "        <td>Berg</td>\n",
       "    </tr>\n",
       "    <tr>\n",
       "        <td>891021-1287</td>\n",
       "        <td>Lotta</td>\n",
       "        <td>Bergman</td>\n",
       "    </tr>\n",
       "    <tr>\n",
       "        <td>880620-2564</td>\n",
       "        <td>Susanne</td>\n",
       "        <td>Dahl</td>\n",
       "    </tr>\n",
       "    <tr>\n",
       "        <td>940802-3861</td>\n",
       "        <td>Birgit</td>\n",
       "        <td>Ewesson</td>\n",
       "    </tr>\n",
       "    <tr>\n",
       "        <td>850706-2762</td>\n",
       "        <td>Ulrika</td>\n",
       "        <td>Jonsson</td>\n",
       "    </tr>\n",
       "    <tr>\n",
       "        <td>890622-1928</td>\n",
       "        <td>Jenny</td>\n",
       "        <td>Lundin</td>\n",
       "    </tr>\n",
       "    <tr>\n",
       "        <td>910226-3409</td>\n",
       "        <td>Karin</td>\n",
       "        <td>Östberg</td>\n",
       "    </tr>\n",
       "    <tr>\n",
       "        <td>861103-2438</td>\n",
       "        <td>Bo</td>\n",
       "        <td>Ek</td>\n",
       "    </tr>\n",
       "    <tr>\n",
       "        <td>931225-3158</td>\n",
       "        <td>Bo</td>\n",
       "        <td>Ek</td>\n",
       "    </tr>\n",
       "    <tr>\n",
       "        <td>850819-2139</td>\n",
       "        <td>Bo</td>\n",
       "        <td>Ek</td>\n",
       "    </tr>\n",
       "    <tr>\n",
       "        <td>891220-1393</td>\n",
       "        <td>Erik</td>\n",
       "        <td>Andersson</td>\n",
       "    </tr>\n",
       "    <tr>\n",
       "        <td>900313-2257</td>\n",
       "        <td>Erik</td>\n",
       "        <td>Andersson</td>\n",
       "    </tr>\n",
       "    <tr>\n",
       "        <td>940825-1934</td>\n",
       "        <td>Filip</td>\n",
       "        <td>Gustavsson</td>\n",
       "    </tr>\n",
       "    <tr>\n",
       "        <td>860323-1071</td>\n",
       "        <td>Niklas</td>\n",
       "        <td>Andersson</td>\n",
       "    </tr>\n",
       "    <tr>\n",
       "        <td>920308-3854</td>\n",
       "        <td>David</td>\n",
       "        <td>Carlsson</td>\n",
       "    </tr>\n",
       "    <tr>\n",
       "        <td>890820-2496</td>\n",
       "        <td>Tobias</td>\n",
       "        <td>Enberg</td>\n",
       "    </tr>\n",
       "    <tr>\n",
       "        <td>891007-3091</td>\n",
       "        <td>Johan</td>\n",
       "        <td>Lind</td>\n",
       "    </tr>\n",
       "    <tr>\n",
       "        <td>920623-3258</td>\n",
       "        <td>Magnus</td>\n",
       "        <td>Pettersson</td>\n",
       "    </tr>\n",
       "    <tr>\n",
       "        <td>850517-2597</td>\n",
       "        <td>Filip</td>\n",
       "        <td>Persson</td>\n",
       "    </tr>\n",
       "    <tr>\n",
       "        <td>890621-3057</td>\n",
       "        <td>Ola</td>\n",
       "        <td>Nilsson</td>\n",
       "    </tr>\n",
       "    <tr>\n",
       "        <td>920812-1857</td>\n",
       "        <td>Jakob</td>\n",
       "        <td>Malmberg</td>\n",
       "    </tr>\n",
       "    <tr>\n",
       "        <td>850208-1213</td>\n",
       "        <td>Henrik</td>\n",
       "        <td>Berg</td>\n",
       "    </tr>\n",
       "    <tr>\n",
       "        <td>930420-2833</td>\n",
       "        <td>John</td>\n",
       "        <td>Lind</td>\n",
       "    </tr>\n",
       "    <tr>\n",
       "        <td>930716-3933</td>\n",
       "        <td>Patrik</td>\n",
       "        <td>Lundh</td>\n",
       "    </tr>\n",
       "    <tr>\n",
       "        <td>940801-2971</td>\n",
       "        <td>Mikael</td>\n",
       "        <td>Nilsson</td>\n",
       "    </tr>\n",
       "    <tr>\n",
       "        <td>931128-1333</td>\n",
       "        <td>Joakim</td>\n",
       "        <td>Nilsson</td>\n",
       "    </tr>\n",
       "    <tr>\n",
       "        <td>940318-2373</td>\n",
       "        <td>Conny</td>\n",
       "        <td>Modig</td>\n",
       "    </tr>\n",
       "    <tr>\n",
       "        <td>881030-2772</td>\n",
       "        <td>Christian</td>\n",
       "        <td>Wallman</td>\n",
       "    </tr>\n",
       "    <tr>\n",
       "        <td>931015-1271</td>\n",
       "        <td>Magnus</td>\n",
       "        <td>Strömgren</td>\n",
       "    </tr>\n",
       "    <tr>\n",
       "        <td>900206-3735</td>\n",
       "        <td>Daniel</td>\n",
       "        <td>Ahlman</td>\n",
       "    </tr>\n",
       "    <tr>\n",
       "        <td>891231-2554</td>\n",
       "        <td>Lars</td>\n",
       "        <td>Molin</td>\n",
       "    </tr>\n",
       "    <tr>\n",
       "        <td>900526-1450</td>\n",
       "        <td>Magnus</td>\n",
       "        <td>Nilsson</td>\n",
       "    </tr>\n",
       "    <tr>\n",
       "        <td>950830-2637</td>\n",
       "        <td>Anders</td>\n",
       "        <td>Olsson</td>\n",
       "    </tr>\n",
       "    <tr>\n",
       "        <td>880322-3951</td>\n",
       "        <td>Martin</td>\n",
       "        <td>Alm</td>\n",
       "    </tr>\n",
       "    <tr>\n",
       "        <td>950714-2190</td>\n",
       "        <td>Håkan</td>\n",
       "        <td>Mossgren</td>\n",
       "    </tr>\n",
       "    <tr>\n",
       "        <td>911020-3538</td>\n",
       "        <td>Fredrik</td>\n",
       "        <td>Ryd</td>\n",
       "    </tr>\n",
       "    <tr>\n",
       "        <td>921222-2113</td>\n",
       "        <td>Mats</td>\n",
       "        <td>Wikström</td>\n",
       "    </tr>\n",
       "    <tr>\n",
       "        <td>891106-1277</td>\n",
       "        <td>Anders</td>\n",
       "        <td>Magnusson</td>\n",
       "    </tr>\n",
       "    <tr>\n",
       "        <td>920906-3371</td>\n",
       "        <td>Andreas</td>\n",
       "        <td>Molin</td>\n",
       "    </tr>\n",
       "    <tr>\n",
       "        <td>890103-1256</td>\n",
       "        <td>Johan</td>\n",
       "        <td>Brattberg</td>\n",
       "    </tr>\n",
       "    <tr>\n",
       "        <td>920514-3433</td>\n",
       "        <td>Johan</td>\n",
       "        <td>Olsson</td>\n",
       "    </tr>\n",
       "    <tr>\n",
       "        <td>911015-3758</td>\n",
       "        <td>Jonathan</td>\n",
       "        <td>Jönsson</td>\n",
       "    </tr>\n",
       "    <tr>\n",
       "        <td>950125-1153</td>\n",
       "        <td>Magnus</td>\n",
       "        <td>Hultgren</td>\n",
       "    </tr>\n",
       "    <tr>\n",
       "        <td>950715-2090</td>\n",
       "        <td>Axel</td>\n",
       "        <td>Nord</td>\n",
       "    </tr>\n",
       "    <tr>\n",
       "        <td>900918-3999</td>\n",
       "        <td>Henrik</td>\n",
       "        <td>Hult</td>\n",
       "    </tr>\n",
       "    <tr>\n",
       "        <td>880206-1915</td>\n",
       "        <td>Joakim</td>\n",
       "        <td>Hall</td>\n",
       "    </tr>\n",
       "    <tr>\n",
       "        <td>900129-3374</td>\n",
       "        <td>Henrik</td>\n",
       "        <td>Gustavsson</td>\n",
       "    </tr>\n",
       "    <tr>\n",
       "        <td>881110-1272</td>\n",
       "        <td>Torbjörn</td>\n",
       "        <td>Modig</td>\n",
       "    </tr>\n",
       "    <tr>\n",
       "        <td>921029-1995</td>\n",
       "        <td>Daniel</td>\n",
       "        <td>Axelsson</td>\n",
       "    </tr>\n",
       "    <tr>\n",
       "        <td>901030-1895</td>\n",
       "        <td>Per-Erik</td>\n",
       "        <td>Pettersson</td>\n",
       "    </tr>\n",
       "    <tr>\n",
       "        <td>920921-2499</td>\n",
       "        <td>Roger</td>\n",
       "        <td>Brorsson</td>\n",
       "    </tr>\n",
       "    <tr>\n",
       "        <td>930804-3050</td>\n",
       "        <td>Patrik</td>\n",
       "        <td>Ohlsson</td>\n",
       "    </tr>\n",
       "    <tr>\n",
       "        <td>910101-1234</td>\n",
       "        <td>Peter</td>\n",
       "        <td>Solberg</td>\n",
       "    </tr>\n",
       "</table>"
      ],
      "text/plain": [
       "[('950705-2308', 'Anna', 'Johansson'),\n",
       " ('930702-3582', 'Anna', 'Johansson'),\n",
       " ('911212-1746', 'Eva', 'Alm'),\n",
       " ('910707-3787', 'Eva', 'Nilsson'),\n",
       " ('931213-2824', 'Elaine', 'Robertson'),\n",
       " ('951122-1048', 'Maria', 'Nordman'),\n",
       " ('910308-1826', 'Helena', 'Troberg'),\n",
       " ('941003-1225', 'Lotta', 'Emanuelsson'),\n",
       " ('950829-1848', 'Anna', 'Nyström'),\n",
       " ('860819-2864', 'Maria', 'Andersson'),\n",
       " ('870915-2742', 'Marie', 'Persson'),\n",
       " ('900227-2369', 'Märit', 'Aspegren'),\n",
       " ('931208-3605', 'Ylva', 'Jacobsson'),\n",
       " ('951004-2346', 'Frida', 'Weidel'),\n",
       " ('870909-3367', 'Caroline', 'Olsson'),\n",
       " ('910915-2068', 'Karolin', 'Ek'),\n",
       " ('860206-1065', 'Eva', 'Hjort'),\n",
       " ('900528-1540', 'Sofia', 'Kjellberg'),\n",
       " ('930502-2040', 'Tina', 'Lööf'),\n",
       " ('950317-3520', 'Lisa', 'Berg'),\n",
       " ('891021-1287', 'Lotta', 'Bergman'),\n",
       " ('880620-2564', 'Susanne', 'Dahl'),\n",
       " ('940802-3861', 'Birgit', 'Ewesson'),\n",
       " ('850706-2762', 'Ulrika', 'Jonsson'),\n",
       " ('890622-1928', 'Jenny', 'Lundin'),\n",
       " ('910226-3409', 'Karin', 'Östberg'),\n",
       " ('861103-2438', 'Bo', 'Ek'),\n",
       " ('931225-3158', 'Bo', 'Ek'),\n",
       " ('850819-2139', 'Bo', 'Ek'),\n",
       " ('891220-1393', 'Erik', 'Andersson'),\n",
       " ('900313-2257', 'Erik', 'Andersson'),\n",
       " ('940825-1934', 'Filip', 'Gustavsson'),\n",
       " ('860323-1071', 'Niklas', 'Andersson'),\n",
       " ('920308-3854', 'David', 'Carlsson'),\n",
       " ('890820-2496', 'Tobias', 'Enberg'),\n",
       " ('891007-3091', 'Johan', 'Lind'),\n",
       " ('920623-3258', 'Magnus', 'Pettersson'),\n",
       " ('850517-2597', 'Filip', 'Persson'),\n",
       " ('890621-3057', 'Ola', 'Nilsson'),\n",
       " ('920812-1857', 'Jakob', 'Malmberg'),\n",
       " ('850208-1213', 'Henrik', 'Berg'),\n",
       " ('930420-2833', 'John', 'Lind'),\n",
       " ('930716-3933', 'Patrik', 'Lundh'),\n",
       " ('940801-2971', 'Mikael', 'Nilsson'),\n",
       " ('931128-1333', 'Joakim', 'Nilsson'),\n",
       " ('940318-2373', 'Conny', 'Modig'),\n",
       " ('881030-2772', 'Christian', 'Wallman'),\n",
       " ('931015-1271', 'Magnus', 'Strömgren'),\n",
       " ('900206-3735', 'Daniel', 'Ahlman'),\n",
       " ('891231-2554', 'Lars', 'Molin'),\n",
       " ('900526-1450', 'Magnus', 'Nilsson'),\n",
       " ('950830-2637', 'Anders', 'Olsson'),\n",
       " ('880322-3951', 'Martin', 'Alm'),\n",
       " ('950714-2190', 'Håkan', 'Mossgren'),\n",
       " ('911020-3538', 'Fredrik', 'Ryd'),\n",
       " ('921222-2113', 'Mats', 'Wikström'),\n",
       " ('891106-1277', 'Anders', 'Magnusson'),\n",
       " ('920906-3371', 'Andreas', 'Molin'),\n",
       " ('890103-1256', 'Johan', 'Brattberg'),\n",
       " ('920514-3433', 'Johan', 'Olsson'),\n",
       " ('911015-3758', 'Jonathan', 'Jönsson'),\n",
       " ('950125-1153', 'Magnus', 'Hultgren'),\n",
       " ('950715-2090', 'Axel', 'Nord'),\n",
       " ('900918-3999', 'Henrik', 'Hult'),\n",
       " ('880206-1915', 'Joakim', 'Hall'),\n",
       " ('900129-3374', 'Henrik', 'Gustavsson'),\n",
       " ('881110-1272', 'Torbjörn', 'Modig'),\n",
       " ('921029-1995', 'Daniel', 'Axelsson'),\n",
       " ('901030-1895', 'Per-Erik', 'Pettersson'),\n",
       " ('920921-2499', 'Roger', 'Brorsson'),\n",
       " ('930804-3050', 'Patrik', 'Ohlsson'),\n",
       " ('910101-1234', 'Peter', 'Solberg')]"
      ]
     },
     "execution_count": 3,
     "metadata": {},
     "output_type": "execute_result"
    }
   ],
   "source": [
    "%%sql\n",
    "SELECT * \n",
    "FROM students"
   ]
  },
  {
   "cell_type": "markdown",
   "metadata": {},
   "source": [
    "b) Same as question a) but produce a sorted listing. Sort first by\n",
    "   last name and then by first name."
   ]
  },
  {
   "cell_type": "code",
   "execution_count": null,
   "metadata": {
    "collapsed": true
   },
   "outputs": [],
   "source": [
    "%%sql\n"
   ]
  },
  {
   "cell_type": "markdown",
   "metadata": {},
   "source": [
    "c) Which students were born in 1985? [4]"
   ]
  },
  {
   "cell_type": "code",
   "execution_count": null,
   "metadata": {
    "collapsed": true
   },
   "outputs": [],
   "source": [
    "%%sql\n"
   ]
  },
  {
   "cell_type": "markdown",
   "metadata": {},
   "source": [
    "d) What are the names of the female students, and which are their\n",
    "   social security numbers? The next-to-last digit in the social\n",
    "   security number is even for females. The SQLite function\n",
    "   `substr(str,m,n)` returns `n` characters from the string `str`,\n",
    "   starting at character `m`. [26]"
   ]
  },
  {
   "cell_type": "code",
   "execution_count": null,
   "metadata": {
    "collapsed": true
   },
   "outputs": [],
   "source": [
    "%%sql\n"
   ]
  },
  {
   "cell_type": "markdown",
   "metadata": {},
   "source": [
    "e) How many students are registered in the database?"
   ]
  },
  {
   "cell_type": "code",
   "execution_count": null,
   "metadata": {
    "collapsed": true
   },
   "outputs": [],
   "source": [
    "%%sql\n"
   ]
  },
  {
   "cell_type": "markdown",
   "metadata": {},
   "source": [
    "f) Which courses are offered by the department of Mathematics (course\n",
    "   codes `FMAxxx`)? [22]"
   ]
  },
  {
   "cell_type": "code",
   "execution_count": null,
   "metadata": {
    "collapsed": true
   },
   "outputs": [],
   "source": [
    "%%sql\n"
   ]
  },
  {
   "cell_type": "markdown",
   "metadata": {},
   "source": [
    "g) Which courses give more than 7.5 credits? [16]"
   ]
  },
  {
   "cell_type": "code",
   "execution_count": null,
   "metadata": {
    "collapsed": true
   },
   "outputs": [],
   "source": [
    "%%sql\n"
   ]
  },
  {
   "cell_type": "markdown",
   "metadata": {},
   "source": [
    "h) How may courses are there on each level `G1`, `G2` and `A`?"
   ]
  },
  {
   "cell_type": "code",
   "execution_count": null,
   "metadata": {
    "collapsed": true
   },
   "outputs": [],
   "source": [
    "%%sql\n"
   ]
  },
  {
   "cell_type": "markdown",
   "metadata": {},
   "source": [
    "i) Which courses (course codes only) have been taken by the student\n",
    "   with social security number 910101–1234? [35]"
   ]
  },
  {
   "cell_type": "code",
   "execution_count": null,
   "metadata": {
    "collapsed": true
   },
   "outputs": [],
   "source": [
    "%%sql\n"
   ]
  },
  {
   "cell_type": "markdown",
   "metadata": {},
   "source": [
    "j) What are the names of these courses, and how many credits do they give?"
   ]
  },
  {
   "cell_type": "code",
   "execution_count": null,
   "metadata": {
    "collapsed": true
   },
   "outputs": [],
   "source": [
    "%%sql\n"
   ]
  },
  {
   "cell_type": "markdown",
   "metadata": {},
   "source": [
    "k) How many credits has the student taken?"
   ]
  },
  {
   "cell_type": "code",
   "execution_count": null,
   "metadata": {
    "collapsed": true
   },
   "outputs": [],
   "source": [
    "%%sql\n"
   ]
  },
  {
   "cell_type": "markdown",
   "metadata": {},
   "source": [
    "l) Which is the student’s grade average (arithmetic mean, not weighted) on the courses?"
   ]
  },
  {
   "cell_type": "code",
   "execution_count": null,
   "metadata": {
    "collapsed": true
   },
   "outputs": [],
   "source": [
    "%%sql\n"
   ]
  },
  {
   "cell_type": "markdown",
   "metadata": {},
   "source": [
    "m) Same questions as in questions i)–l), but for the student Eva Alm. [26]"
   ]
  },
  {
   "cell_type": "code",
   "execution_count": null,
   "metadata": {
    "collapsed": true
   },
   "outputs": [],
   "source": [
    "%%sql\n"
   ]
  },
  {
   "cell_type": "markdown",
   "metadata": {},
   "source": [
    "n) Which students have taken 0 credits? [11]"
   ]
  },
  {
   "cell_type": "code",
   "execution_count": null,
   "metadata": {
    "collapsed": true
   },
   "outputs": [],
   "source": [
    "%%sql\n"
   ]
  },
  {
   "cell_type": "markdown",
   "metadata": {},
   "source": [
    "o) Which students have the highest grade average? Advice: define and\n",
    "   use a view that gives the social security number and grade average\n",
    "   for each student."
   ]
  },
  {
   "cell_type": "code",
   "execution_count": null,
   "metadata": {
    "collapsed": true
   },
   "outputs": [],
   "source": [
    "%%sql\n"
   ]
  },
  {
   "cell_type": "markdown",
   "metadata": {},
   "source": [
    "p) List the social security number and total number of credits for all\n",
    "   students. Students with no credits should be included with 0\n",
    "   credits, not null. If you do this with an outer join you might want\n",
    "   to use the function coalesce(v1, v2, ...); it returns the first\n",
    "   value which is not null. [72]"
   ]
  },
  {
   "cell_type": "code",
   "execution_count": null,
   "metadata": {
    "collapsed": true
   },
   "outputs": [],
   "source": [
    "%%sql\n"
   ]
  },
  {
   "cell_type": "markdown",
   "metadata": {},
   "source": [
    "q) Is there more than one student with the same name? If so, who are\n",
    "   these students and what are their social security numbers? [7]"
   ]
  },
  {
   "cell_type": "code",
   "execution_count": null,
   "metadata": {
    "collapsed": true
   },
   "outputs": [],
   "source": [
    "%%sql\n"
   ]
  }
 ],
 "metadata": {
  "anaconda-cloud": {},
  "kernelspec": {
   "display_name": "Python [default]",
   "language": "python",
   "name": "python3"
  },
  "language_info": {
   "codemirror_mode": {
    "name": "ipython",
    "version": 3
   },
   "file_extension": ".py",
   "mimetype": "text/x-python",
   "name": "python",
   "nbconvert_exporter": "python",
   "pygments_lexer": "ipython3",
   "version": "3.5.2"
  }
 },
 "nbformat": 4,
 "nbformat_minor": 1
}
