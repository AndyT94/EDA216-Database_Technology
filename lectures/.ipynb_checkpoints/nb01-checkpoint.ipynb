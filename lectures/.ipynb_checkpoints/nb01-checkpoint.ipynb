{
 "cells": [
  {
   "cell_type": "markdown",
   "metadata": {},
   "source": [
    "# EDA216 - Lecture 1\n",
    "\n",
    "During the lectures and exercises we'll try out SQL-code in Jupyter\n",
    "Notebooks, and to do that we begin by evaluating:"
   ]
  },
  {
   "cell_type": "code",
   "execution_count": null,
   "metadata": {
    "collapsed": true
   },
   "outputs": [],
   "source": [
    "%load_ext sql"
   ]
  },
  {
   "cell_type": "code",
   "execution_count": null,
   "metadata": {
    "collapsed": true
   },
   "outputs": [],
   "source": [
    "%sql sqlite://"
   ]
  },
  {
   "cell_type": "markdown",
   "metadata": {},
   "source": [
    "Everything in the code sections is evaluated\n",
    "as [Python](https://www.python.org/) code (more on that later), but\n",
    "lines beginning with `%sql` will be seen as an SQL statement, and all\n",
    "lines following `%%sql` will also be evaluated as SQL statements.\n",
    "\n",
    "## Contacts\n",
    "\n",
    "We first define a table to store our contacts:"
   ]
  },
  {
   "cell_type": "code",
   "execution_count": null,
   "metadata": {
    "collapsed": true
   },
   "outputs": [],
   "source": [
    "%%sql\n",
    "DROP TABLE IF exists contacts;\n",
    "CREATE TABLE contacts (\n",
    "  name             VARCHAR(32),\n",
    "  phone            VARCHAR(16),\n",
    "  email            VARCHAR(32)\n",
    ");\n",
    "\n",
    "INSERT INTO contacts (name, phone, email)\n",
    "VALUES ('Adam', '650-043-1797', 'adam@life.edu'),\n",
    "       ('Emma', '347-326-4813', 'emma@mail.org'),\n",
    "       ('Christian', '347-326-3154', 'cs@gmail.com');"
   ]
  },
  {
   "cell_type": "markdown",
   "metadata": {},
   "source": [
    "We can see everything that's in the table using:"
   ]
  },
  {
   "cell_type": "code",
   "execution_count": null,
   "metadata": {
    "collapsed": true
   },
   "outputs": [],
   "source": [
    "%%sql\n",
    "SELECT * FROM contacts;"
   ]
  },
  {
   "cell_type": "markdown",
   "metadata": {},
   "source": [
    "### Exercises\n",
    "\n",
    "Write SQL statements to do the following:\n",
    "\n",
    "+  Show all names"
   ]
  },
  {
   "cell_type": "code",
   "execution_count": null,
   "metadata": {
    "collapsed": true
   },
   "outputs": [],
   "source": [
    "%%sql\n"
   ]
  },
  {
   "cell_type": "markdown",
   "metadata": {},
   "source": [
    "Chosing just a few columns is called a *projection*.\n",
    "\n",
    "+  Show all names, alphabetically"
   ]
  },
  {
   "cell_type": "code",
   "execution_count": null,
   "metadata": {
    "collapsed": true
   },
   "outputs": [],
   "source": [
    "%%sql\n"
   ]
  },
  {
   "cell_type": "markdown",
   "metadata": {},
   "source": [
    "+  Show all phone numbers"
   ]
  },
  {
   "cell_type": "code",
   "execution_count": null,
   "metadata": {
    "collapsed": true
   },
   "outputs": [],
   "source": [
    "%%sql\n"
   ]
  },
  {
   "cell_type": "markdown",
   "metadata": {},
   "source": [
    "+  Show Adam's phone number and email address"
   ]
  },
  {
   "cell_type": "code",
   "execution_count": null,
   "metadata": {
    "collapsed": true
   },
   "outputs": [],
   "source": [
    "%%sql\n"
   ]
  },
  {
   "cell_type": "markdown",
   "metadata": {},
   "source": [
    "Chosing just a few rows is called a *selection*.\n",
    "\n",
    "+  Show all phone numbers beginning with `347`"
   ]
  },
  {
   "cell_type": "code",
   "execution_count": null,
   "metadata": {
    "collapsed": true
   },
   "outputs": [],
   "source": [
    "%%sql\n"
   ]
  },
  {
   "cell_type": "markdown",
   "metadata": {},
   "source": [
    "## Nobel laureates in literature"
   ]
  },
  {
   "cell_type": "code",
   "execution_count": null,
   "metadata": {
    "collapsed": true
   },
   "outputs": [],
   "source": [
    "%sql sqlite:///nobel.db"
   ]
  },
  {
   "cell_type": "markdown",
   "metadata": {},
   "source": [
    "To see the structure of a table, we can write:"
   ]
  },
  {
   "cell_type": "code",
   "execution_count": null,
   "metadata": {
    "collapsed": true
   },
   "outputs": [],
   "source": [
    "%sql PRAGMA table_info(laureates);"
   ]
  },
  {
   "cell_type": "markdown",
   "metadata": {},
   "source": [
    "We can also get a SQL statement which creates the table in question:"
   ]
  },
  {
   "cell_type": "code",
   "execution_count": null,
   "metadata": {
    "collapsed": true
   },
   "outputs": [],
   "source": [
    "%sql SELECT sql FROM sqlite_master WHERE name = <table name>;"
   ]
  },
  {
   "cell_type": "markdown",
   "metadata": {},
   "source": [
    "This can sometimes be useful, I've put it here for reference.\n",
    "\n",
    "\n",
    "### Exercises\n",
    "\n",
    "+  Show the names of all the laureates"
   ]
  },
  {
   "cell_type": "code",
   "execution_count": null,
   "metadata": {
    "collapsed": true
   },
   "outputs": [],
   "source": [
    "%%sql\n"
   ]
  },
  {
   "cell_type": "markdown",
   "metadata": {},
   "source": [
    "+  When did Winston Churchill win his prize?"
   ]
  },
  {
   "cell_type": "code",
   "execution_count": null,
   "metadata": {
    "collapsed": true
   },
   "outputs": [],
   "source": [
    "%%sql\n"
   ]
  },
  {
   "cell_type": "markdown",
   "metadata": {},
   "source": [
    "+ Why did Bob Dylan get the prize?"
   ]
  },
  {
   "cell_type": "code",
   "execution_count": null,
   "metadata": {
    "collapsed": true
   },
   "outputs": [],
   "source": [
    "%%sql\n"
   ]
  },
  {
   "cell_type": "markdown",
   "metadata": {},
   "source": [
    "+  How many prizes has been awarded?"
   ]
  },
  {
   "cell_type": "code",
   "execution_count": null,
   "metadata": {
    "collapsed": true
   },
   "outputs": [],
   "source": [
    "%%sql\n"
   ]
  },
  {
   "cell_type": "markdown",
   "metadata": {},
   "source": [
    "+  How many prizes have been won by Swedish authors after 1920?"
   ]
  },
  {
   "cell_type": "code",
   "execution_count": null,
   "metadata": {
    "collapsed": true
   },
   "outputs": [],
   "source": [
    "%%sql\n"
   ]
  },
  {
   "cell_type": "markdown",
   "metadata": {},
   "source": [
    "Now return to the slides...\n",
    "\n",
    "\n",
    "## More tables for our contacts"
   ]
  },
  {
   "cell_type": "code",
   "execution_count": null,
   "metadata": {
    "collapsed": true
   },
   "outputs": [],
   "source": [
    "%%sql\n",
    "DROP TABLE IF exists contacts;\n",
    "CREATE TABLE contacts (\n",
    "  id               INT PRIMARY KEY,\n",
    "  name             VARCHAR(32) NOT NULL\n",
    ");\n",
    "\n",
    "DROP TABLE IF exists phone_numbers;\n",
    "CREATE TABLE phone_numbers (\n",
    "  id               INT REFERENCES contacts(id),\n",
    "  phone            VARCHAR(16)\n",
    ");\n",
    "\n",
    "DROP TABLE IF exists email_addresses;\n",
    "CREATE TABLE email_addresses (\n",
    "  id               INT REFERENCES contacts(id),\n",
    "  email            VARCHAR(32)\n",
    ");\n",
    "\n",
    "INSERT INTO contacts (id, name)\n",
    "VALUES (101, 'Adam'),\n",
    "       (102, 'Emma'),\n",
    "       (103, 'Christian');\n",
    "\n",
    "INSERT INTO phone_numbers (id, phone)\n",
    "VALUES (102, '347-326-4813'),\n",
    "       (103, '347-326-3154');\n",
    "\n",
    "INSERT INTO email_addresses (id, email)\n",
    "VALUES (101, 'adam@life.edu'),\n",
    "       (102, 'emma@mail.org'),\n",
    "       (103, 'cs@gmail.com'),\n",
    "       (103, 'cso@work.com');"
   ]
  },
  {
   "cell_type": "markdown",
   "metadata": {},
   "source": [
    "Write SQL statements to do the following:\n",
    "\n",
    "+ Show all names"
   ]
  },
  {
   "cell_type": "code",
   "execution_count": null,
   "metadata": {
    "collapsed": true
   },
   "outputs": [],
   "source": [
    "%%sql\n"
   ]
  },
  {
   "cell_type": "markdown",
   "metadata": {},
   "source": [
    "+ Show Emma's phone number"
   ]
  },
  {
   "cell_type": "code",
   "execution_count": null,
   "metadata": {
    "collapsed": true
   },
   "outputs": [],
   "source": [
    "%%sql\n"
   ]
  },
  {
   "cell_type": "markdown",
   "metadata": {},
   "source": [
    "+ Show Christian's email addresses"
   ]
  },
  {
   "cell_type": "code",
   "execution_count": null,
   "metadata": {
    "collapsed": true
   },
   "outputs": [],
   "source": [
    "%%sql\n"
   ]
  },
  {
   "cell_type": "markdown",
   "metadata": {},
   "source": [
    "+ Show the name and email address of everyone with a phone number beginning\n",
    "  with `347`"
   ]
  },
  {
   "cell_type": "code",
   "execution_count": null,
   "metadata": {
    "collapsed": true
   },
   "outputs": [],
   "source": [
    "%%sql\n"
   ]
  },
  {
   "cell_type": "markdown",
   "metadata": {},
   "source": [
    "+ Show the name and phone number of everyone with an email ending with\n",
    "  `.com`"
   ]
  },
  {
   "cell_type": "code",
   "execution_count": null,
   "metadata": {
    "collapsed": true
   },
   "outputs": [],
   "source": [
    "%%sql\n"
   ]
  }
 ],
 "metadata": {
  "anaconda-cloud": {}
 },
 "nbformat": 4,
 "nbformat_minor": 1
}
