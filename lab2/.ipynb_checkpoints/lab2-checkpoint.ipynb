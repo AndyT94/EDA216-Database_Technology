{
 "cells": [
  {
   "cell_type": "markdown",
   "metadata": {},
   "source": [
    "# EDA216 - Lab 2\n",
    "\n",
    "## E/R Model\n",
    "\n",
    "![E/R Model](ER.png)\n",
    "\n",
    "## E/R Model with multiplicities\n",
    "\n",
    "![E/R with multiplicities](ERrelation.png)\n",
    "\n",
    "## UML\n",
    "\n",
    "![UML](UML2.png)\n",
    "\n",
    "## Relational model\n",
    "\n",
    "Movies(<u>name</u>)\n",
    "\n",
    "Theaters(<u>name</u>, seats)\n",
    "\n",
    "Performances(<em><u>name</u></em>, <u>date</u>, theater_name, available_seats)\n",
    "\n",
    "Reservations(<em>username</em>, <u>reservation_number</u>, <em><u>movie_name</u></em>, <em><u>date</u></em>)\n",
    "\n",
    "Users(<u>username</u>, name, address, phone_number)\n",
    "\n",
    "## Preparation\n",
    "\n",
    "First load the Jupyter SQL extension by evaluating the next cell:"
   ]
  },
  {
   "cell_type": "code",
   "execution_count": 17,
   "metadata": {
    "collapsed": false
   },
   "outputs": [
    {
     "name": "stdout",
     "output_type": "stream",
     "text": [
      "The sql extension is already loaded. To reload it, use:\n",
      "  %reload_ext sql\n"
     ]
    }
   ],
   "source": [
    "%load_ext sql"
   ]
  },
  {
   "cell_type": "markdown",
   "metadata": {},
   "source": [
    "Next run your script which sets up your database, assuming your script\n",
    "is in the file `lab2.sql`, you can create a file `lab2.db` by issuing\n",
    "(in a command shell):"
   ]
  },
  {
   "cell_type": "markdown",
   "metadata": {},
   "source": [
    "```\n",
    "    sqlite3 lab2.db < lab2.sql\n",
    "```\n"
   ]
  },
  {
   "cell_type": "markdown",
   "metadata": {},
   "source": [
    "Now we can import the database we just created by evaluating:"
   ]
  },
  {
   "cell_type": "code",
   "execution_count": 33,
   "metadata": {
    "collapsed": false
   },
   "outputs": [
    {
     "data": {
      "text/plain": [
       "'Connected: None@lab2.db'"
      ]
     },
     "execution_count": 33,
     "metadata": {},
     "output_type": "execute_result"
    }
   ],
   "source": [
    "%sql sqlite:///lab2.db"
   ]
  },
  {
   "cell_type": "markdown",
   "metadata": {},
   "source": [
    "If your database gets corrupt as you run the lab, you only have to\n",
    "execute the `sqlite3` command above (in a shell), and then reload the\n",
    "database.\n",
    "\n",
    "By default, SQLite doesn't check foreign key constraints, but we can\n",
    "turn it on with:"
   ]
  },
  {
   "cell_type": "code",
   "execution_count": 19,
   "metadata": {
    "collapsed": false
   },
   "outputs": [
    {
     "name": "stdout",
     "output_type": "stream",
     "text": [
      "Done.\n"
     ]
    },
    {
     "data": {
      "text/plain": [
       "[]"
      ]
     },
     "execution_count": 19,
     "metadata": {},
     "output_type": "execute_result"
    }
   ],
   "source": [
    "%%sql \n",
    "PRAGMA foreign_keys=ON;"
   ]
  },
  {
   "cell_type": "markdown",
   "metadata": {},
   "source": [
    "## Tasks\n",
    "\n",
    "Once we've imported our database, we can check that the key\n",
    "constraints we stated work as intended. Try the following:\n",
    "\n",
    "Show all performances:"
   ]
  },
  {
   "cell_type": "code",
   "execution_count": 36,
   "metadata": {
    "collapsed": false
   },
   "outputs": [
    {
     "name": "stdout",
     "output_type": "stream",
     "text": [
      "Done.\n"
     ]
    },
    {
     "data": {
      "text/html": [
       "<table>\n",
       "    <tr>\n",
       "        <th>name</th>\n",
       "        <th>date</th>\n",
       "        <th>theater_name</th>\n",
       "        <th>available_seats</th>\n",
       "    </tr>\n",
       "    <tr>\n",
       "        <td>La La Land</td>\n",
       "        <td>2017-02-01</td>\n",
       "        <td>Royal</td>\n",
       "        <td>496</td>\n",
       "    </tr>\n",
       "    <tr>\n",
       "        <td>La La Land</td>\n",
       "        <td>2017-02-02</td>\n",
       "        <td>Filmstaden Storgatan</td>\n",
       "        <td>63</td>\n",
       "    </tr>\n",
       "</table>"
      ],
      "text/plain": [
       "[('La La Land', '2017-02-01', 'Royal', 496),\n",
       " ('La La Land', '2017-02-02', 'Filmstaden Storgatan', 63)]"
      ]
     },
     "execution_count": 36,
     "metadata": {},
     "output_type": "execute_result"
    }
   ],
   "source": [
    "%%sql\n",
    "SELECT * \n",
    "FROM performances"
   ]
  },
  {
   "cell_type": "markdown",
   "metadata": {},
   "source": [
    "Create reservations:"
   ]
  },
  {
   "cell_type": "code",
   "execution_count": 37,
   "metadata": {
    "collapsed": false
   },
   "outputs": [
    {
     "name": "stdout",
     "output_type": "stream",
     "text": [
      "Done.\n"
     ]
    },
    {
     "data": {
      "text/html": [
       "<table>\n",
       "    <tr>\n",
       "        <th>reservation_number</th>\n",
       "        <th>username</th>\n",
       "        <th>movie_name</th>\n",
       "        <th>date</th>\n",
       "    </tr>\n",
       "    <tr>\n",
       "        <td>1</td>\n",
       "        <td>andy</td>\n",
       "        <td>La La Land</td>\n",
       "        <td>2017-02-01</td>\n",
       "    </tr>\n",
       "    <tr>\n",
       "        <td>2</td>\n",
       "        <td>andy2</td>\n",
       "        <td>La La Land</td>\n",
       "        <td>2017-02-01</td>\n",
       "    </tr>\n",
       "</table>"
      ],
      "text/plain": [
       "[(1, 'andy', 'La La Land', '2017-02-01'),\n",
       " (2, 'andy2', 'La La Land', '2017-02-01')]"
      ]
     },
     "execution_count": 37,
     "metadata": {},
     "output_type": "execute_result"
    }
   ],
   "source": [
    "%%sql\n",
    "SELECT *\n",
    "FROM reservations"
   ]
  },
  {
   "cell_type": "markdown",
   "metadata": {},
   "source": [
    "Insert two movie theaters with the same name:"
   ]
  },
  {
   "cell_type": "code",
   "execution_count": 16,
   "metadata": {
    "collapsed": false
   },
   "outputs": [
    {
     "name": "stderr",
     "output_type": "stream",
     "text": [
      "UsageError: %%sql is a cell magic, but the cell body is empty. Did you mean the line magic %sql (single %)?\n"
     ]
    }
   ],
   "source": [
    "%%sql\n",
    "INSERT INTO theaters (name, seats)\n",
    "VALUES ('Royal', 3000);"
   ]
  },
  {
   "cell_type": "markdown",
   "metadata": {},
   "source": [
    "Insert two performances of the same movie on the same date:"
   ]
  },
  {
   "cell_type": "code",
   "execution_count": null,
   "metadata": {
    "collapsed": true
   },
   "outputs": [],
   "source": [
    "%%sql\n"
   ]
  },
  {
   "cell_type": "markdown",
   "metadata": {},
   "source": [
    "Insert a performance where the theater doesn’t exist in the database:"
   ]
  },
  {
   "cell_type": "code",
   "execution_count": null,
   "metadata": {
    "collapsed": true
   },
   "outputs": [],
   "source": [
    "%%sql\n"
   ]
  },
  {
   "cell_type": "markdown",
   "metadata": {},
   "source": [
    "Insert a ticket reservation where either the user or the performance\n",
    "doesn’t exist (first make sure SQLite checks foreign key constrains,\n",
    "see above):"
   ]
  },
  {
   "cell_type": "code",
   "execution_count": null,
   "metadata": {
    "collapsed": true
   },
   "outputs": [],
   "source": [
    "%%sql\n"
   ]
  }
 ],
 "metadata": {
  "anaconda-cloud": {},
  "kernelspec": {
   "display_name": "Python [conda root]",
   "language": "python",
   "name": "conda-root-py"
  },
  "language_info": {
   "codemirror_mode": {
    "name": "ipython",
    "version": 3
   },
   "file_extension": ".py",
   "mimetype": "text/x-python",
   "name": "python",
   "nbconvert_exporter": "python",
   "pygments_lexer": "ipython3",
   "version": "3.5.2"
  }
 },
 "nbformat": 4,
 "nbformat_minor": 1
}
